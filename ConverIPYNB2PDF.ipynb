{
  "nbformat": 4,
  "nbformat_minor": 0,
  "metadata": {
    "colab": {
      "name": "ConverIPYNB2PDF_0.3.ipynb",
      "provenance": [],
      "collapsed_sections": [],
      "include_colab_link": true
    },
    "kernelspec": {
      "name": "python3",
      "display_name": "Python 3"
    },
    "language_info": {
      "name": "python"
    }
  },
  "cells": [
    {
      "cell_type": "markdown",
      "metadata": {
        "id": "view-in-github",
        "colab_type": "text"
      },
      "source": [
        "<a href=\"https://colab.research.google.com/github/Feras-dev/ipynb2pdf/blob/main/ConverIPYNB2PDF.ipynb\" target=\"_parent\"><img src=\"https://colab.research.google.com/assets/colab-badge.svg\" alt=\"Open In Colab\"/></a>"
      ]
    },
    {
      "cell_type": "markdown",
      "metadata": {
        "id": "Fcf4HmC72U5v"
      },
      "source": [
        "# To convert to PDF properly\n",
        "## *tested with google colab"
      ]
    },
    {
      "cell_type": "markdown",
      "metadata": {
        "id": "NNO5vah86fzq"
      },
      "source": [
        "Instructons:\n",
        "\n",
        "\n",
        "1. If you are developing on google colab, download your jupyter notebook as an `.ipynb` file locally.\n",
        "2. Upload your file to the root folder directory in your google colab session (you can drag and drop)\n",
        "3. Run the first code cell below, and wait for the message `Done installing all dependencies!`. Depending on your internet connection, this may take 30 secons to a few minutes.\n",
        "4. Now, in the second code cell, edit the variable `myNB`'s definition to match your Jupyter notebook name, without the extntion. (e.g., if my notebook named`myNotebook.ipynb`, then edit the first line of the second code cell to be `myNB = \"myNotebook\"`).\n",
        "5. Run the second code cell. Once completes, you should see a PDF file in the root directory on the left hand side, which you can download.\n",
        "\n"
      ]
    },
    {
      "cell_type": "code",
      "metadata": {
        "id": "FDK5Dc391BSY",
        "colab": {
          "base_uri": "https://localhost:8080/"
        },
        "outputId": "7dfa7ae9-960c-484d-a4e4-f945517748f1"
      },
      "source": [
        "!apt-get install texlive texlive-xetex texlive-latex-extra pandoc\n",
        "!pip install pypandoc\n",
        "print(\"Done installing all dependencies!\")"
      ],
      "execution_count": null,
      "outputs": [
        {
          "output_type": "stream",
          "name": "stdout",
          "text": [
            "Reading package lists... Done\n",
            "Building dependency tree       \n",
            "Reading state information... Done\n",
            "pandoc is already the newest version (1.19.2.4~dfsg-1build4).\n",
            "texlive is already the newest version (2017.20180305-1).\n",
            "texlive-latex-extra is already the newest version (2017.20180305-2).\n",
            "texlive-xetex is already the newest version (2017.20180305-1).\n",
            "0 upgraded, 0 newly installed, 0 to remove and 37 not upgraded.\n",
            "Requirement already satisfied: pypandoc in /usr/local/lib/python3.7/dist-packages (1.6.4)\n",
            "Requirement already satisfied: setuptools in /usr/local/lib/python3.7/dist-packages (from pypandoc) (57.4.0)\n",
            "Requirement already satisfied: pip>=8.1.0 in /usr/local/lib/python3.7/dist-packages (from pypandoc) (21.1.3)\n",
            "Requirement already satisfied: wheel>=0.25.0 in /usr/local/lib/python3.7/dist-packages (from pypandoc) (0.37.0)\n",
            "Done installing all dependencies!\n"
          ]
        }
      ]
    },
    {
      "cell_type": "code",
      "metadata": {
        "id": "YhtWQhdQ2Twd",
        "colab": {
          "base_uri": "https://localhost:8080/"
        },
        "outputId": "b4739df7-03a8-4f8e-a5c8-8d6a5eddc966"
      },
      "source": [
        "myNB='myNotebook'\n",
        "!jupyter nbconvert --to PDF $myNB\n",
        "print(\"Done generating PDF version of given notebook!\")"
      ],
      "execution_count": null,
      "outputs": [
        {
          "output_type": "stream",
          "name": "stdout",
          "text": [
            "[NbConvertApp] Converting notebook 581-Assignment_template.ipynb to PDF\n",
            "[NbConvertApp] Writing 28230 bytes to ./notebook.tex\n",
            "[NbConvertApp] Building PDF\n",
            "[NbConvertApp] Running xelatex 3 times: [u'xelatex', u'./notebook.tex', '-quiet']\n",
            "[NbConvertApp] Running bibtex 1 time: [u'bibtex', u'./notebook']\n",
            "[NbConvertApp] WARNING | bibtex had problems, most likely because there were no citations\n",
            "[NbConvertApp] PDF successfully created\n",
            "[NbConvertApp] Writing 33966 bytes to 581-Assignment_template.pdf\n",
            "Done generating PDF version of given notebook!\n"
          ]
        }
      ]
    }
  ]
}