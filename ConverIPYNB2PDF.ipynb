{
  "nbformat": 4,
  "nbformat_minor": 0,
  "metadata": {
    "colab": {
      "name": "ConverIPYNB2PDF_0.3.ipynb",
      "provenance": [],
      "collapsed_sections": [],
      "include_colab_link": true
    },
    "kernelspec": {
      "name": "python3",
      "display_name": "Python 3"
    },
    "language_info": {
      "name": "python"
    }
  },
  "cells": [
    {
      "cell_type": "markdown",
      "metadata": {
        "id": "view-in-github",
        "colab_type": "text"
      },
      "source": [
        "<a href=\"https://colab.research.google.com/github/Feras-dev/ipynb2pdf/blob/main/ConverIPYNB2PDF.ipynb\" target=\"_parent\"><img src=\"https://colab.research.google.com/assets/colab-badge.svg\" alt=\"Open In Colab\"/></a>"
      ]
    },
    {
      "cell_type": "markdown",
      "metadata": {
        "id": "Fcf4HmC72U5v"
      },
      "source": [
        "# To convert to PDF properly\n",
        "## *tested with google colab"
      ]
    },
    {
      "cell_type": "markdown",
      "metadata": {
        "id": "NNO5vah86fzq"
      },
      "source": [
        "Instructons:\n",
        "\n",
        "\n",
        "1. If you are developing on google colab, download your jupyter notebook as an `.ipynb` file locally.\n",
        "2. Upload your file to the root folder directory in your google colab session (you can drag and drop)\n",
        "3. Run the first code cell below, and wait for the message `Done installing all dependencies!`. Depending on your internet connection, this may take 30 secons to a few minutes.\n",
        "4. Now, in the second code cell, edit the variable `myNB`'s definition to match your Jupyter notebook name, without the extntion. (e.g., if my notebook named`myNotebook.ipynb`, then edit the first line of the second code cell to be `myNB = \"myNotebook\"`).\n",
        "5. Run the second code cell. Once completes, you should see a PDF file in the root directory on the left hand side, which you can download.\n",
        "\n"
      ]
    },
    {
      "cell_type": "code",
      "metadata": {
        "id": "FDK5Dc391BSY"
      },
      "source": [
        "!apt-get install texlive texlive-xetex texlive-latex-extra pandoc\n",
        "!pip install pypandoc\n",
        "print(\"Done installing all dependencies!\")"
      ],
      "execution_count": null,
      "outputs": []
    },
    {
      "cell_type": "code",
      "metadata": {
        "id": "YhtWQhdQ2Twd"
      },
      "source": [
        "myNB='myNotebook'\n",
        "!jupyter nbconvert --to PDF $myNB\n",
        "print(\"Done generating PDF version of given notebook!\")"
      ],
      "execution_count": null,
      "outputs": []
    }
  ]
}